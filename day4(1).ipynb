{
 "cells": [
  {
   "cell_type": "markdown",
   "id": "092d4bd5-5397-4169-a298-88f73196f32a",
   "metadata": {},
   "source": [
    "MultiThreading"
   ]
  },
  {
   "cell_type": "code",
   "execution_count": 3,
   "id": "7313ee6c-03bd-4f49-adda-6d8a353ce4d1",
   "metadata": {},
   "outputs": [],
   "source": [
    "import threading\n",
    "import time"
   ]
  },
  {
   "cell_type": "code",
   "execution_count": 14,
   "id": "154f69bd-af83-426e-adac-80481ef5aa34",
   "metadata": {},
   "outputs": [
    {
     "name": "stdout",
     "output_type": "stream",
     "text": [
      "Sleeping for 4 seconds\n",
      "Sleeping for 2 seconds\n",
      "Sleeping for 1 seconds\n",
      "7.002481299976353\n"
     ]
    }
   ],
   "source": [
    "def func(seconds):\n",
    "    print(f\"Sleeping for {seconds} seconds\")\n",
    "    time.sleep(seconds)\n",
    "\n",
    "time1 = time.perf_counter()\n",
    "\n",
    "func(4)\n",
    "func(2)\n",
    "func(1)\n",
    "\n",
    "time2 = time.perf_counter()\n",
    "print(time2 - time1)"
   ]
  },
  {
   "cell_type": "code",
   "execution_count": 16,
   "id": "74e8c429-862d-4d0c-be63-388f83623f71",
   "metadata": {},
   "outputs": [
    {
     "name": "stdout",
     "output_type": "stream",
     "text": [
      "Sleeping for4seconds\n",
      "Sleeping for2seconds\n",
      "Sleeping for1seconds\n",
      "0.00020380003843456507\n"
     ]
    }
   ],
   "source": [
    "def func(seconds):\n",
    "    print(f\"Sleeping for{seconds}seconds\")\n",
    "    time.sleep(seconds)\n",
    "\n",
    "time3 = time.perf_counter()\n",
    "t1 = threading.Thread(target=func, args=[4])\n",
    "t2 = threading.Thread(target=func, args=[2])\n",
    "t3 = threading.Thread(target=func, args=[1])\n",
    "\n",
    "time4 = time.perf_counter()\n",
    "t1.start()\n",
    "t2.start()\n",
    "t3.start()\n",
    "\n",
    "print(time4-time3)"
   ]
  },
  {
   "cell_type": "code",
   "execution_count": null,
   "id": "b33781e9-e020-4e24-99ee-4748af1a914c",
   "metadata": {},
   "outputs": [],
   "source": [
    "\n"
   ]
  }
 ],
 "metadata": {
  "kernelspec": {
   "display_name": "Python 3 (ipykernel)",
   "language": "python",
   "name": "python3"
  },
  "language_info": {
   "codemirror_mode": {
    "name": "ipython",
    "version": 3
   },
   "file_extension": ".py",
   "mimetype": "text/x-python",
   "name": "python",
   "nbconvert_exporter": "python",
   "pygments_lexer": "ipython3",
   "version": "3.12.3"
  }
 },
 "nbformat": 4,
 "nbformat_minor": 5
}
