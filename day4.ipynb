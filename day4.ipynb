{
 "cells": [
  {
   "cell_type": "markdown",
   "id": "6289dd4c-75a0-46c2-84cd-a7f7983d8189",
   "metadata": {},
   "source": [
    "Pyhon Lambda"
   ]
  },
  {
   "cell_type": "code",
   "execution_count": 4,
   "id": "fd3b15c7-a174-4960-82b7-62f5c5e44660",
   "metadata": {},
   "outputs": [
    {
     "name": "stdout",
     "output_type": "stream",
     "text": [
      "odd number\n"
     ]
    }
   ],
   "source": [
    "clac = lambda num:\"Even number\" if num%2==0 else \"odd number\"\n",
    "print(clac(113))"
   ]
  },
  {
   "cell_type": "code",
   "execution_count": 6,
   "id": "e5fd0501-a1b3-484b-b48a-e4e65079fc5f",
   "metadata": {},
   "outputs": [
    {
     "name": "stdout",
     "output_type": "stream",
     "text": [
      "Invoking the function with the keyword def\n",
      "Finding the cube number:2\n",
      "8\n",
      "Invocking the lambda function 27\n"
     ]
    }
   ],
   "source": [
    "def cube(y):\n",
    "    print(f\"Finding the cube number:{y}\")\n",
    "    return y*y*y\n",
    "\n",
    "\n",
    "lambda_cude = lambda num:num**3\n",
    "\n",
    "print(\"Invoking the function with the keyword def\")\n",
    "print(cube(2))\n",
    "print(\"Invocking the lambda function\",lambda_cude(3))"
   ]
  },
  {
   "cell_type": "code",
   "execution_count": null,
   "id": "2989179f-e076-4f70-8623-7774d0080259",
   "metadata": {},
   "outputs": [],
   "source": [
    "\n"
   ]
  },
  {
   "cell_type": "markdown",
   "id": "0a72185d-d22d-4b11-aef5-cfb40eb88022",
   "metadata": {},
   "source": [
    "Filter"
   ]
  },
  {
   "cell_type": "code",
   "execution_count": 7,
   "id": "d7e34f23-0acb-4cb1-9c99-affbab88437a",
   "metadata": {},
   "outputs": [
    {
     "name": "stdout",
     "output_type": "stream",
     "text": [
      "[2, 4, 6]\n"
     ]
    }
   ],
   "source": [
    "def even(n):\n",
    "    return n%2==0\n",
    "\n",
    "a = [1,2,3,4,5,6]\n",
    "b = filter(even,a)\n",
    "\n",
    "print(list(b))\n",
    "    "
   ]
  },
  {
   "cell_type": "markdown",
   "id": "0640dd67-86ed-4b48-aa42-351430b8536e",
   "metadata": {},
   "source": [
    "filter using with lambda function"
   ]
  },
  {
   "cell_type": "code",
   "execution_count": 9,
   "id": "83d3b70a-d687-4857-93f8-9fd92639043d",
   "metadata": {},
   "outputs": [
    {
     "name": "stdout",
     "output_type": "stream",
     "text": [
      "[2, 4, 6]\n"
     ]
    }
   ],
   "source": [
    "a = [1,2,3,4,5,6]\n",
    "b = filter(lambda x : x%2 == 0 , a)\n",
    "print(list(b))"
   ]
  },
  {
   "cell_type": "markdown",
   "id": "5b7f0591-4aad-4997-ab03-c8f8377e6330",
   "metadata": {},
   "source": [
    "Map function"
   ]
  },
  {
   "cell_type": "code",
   "execution_count": 11,
   "id": "7701633f-4fef-4ad9-8ef6-3a6d9d2cc6c8",
   "metadata": {},
   "outputs": [
    {
     "name": "stdout",
     "output_type": "stream",
     "text": [
      "[1, 2, 3, 4]\n"
     ]
    }
   ],
   "source": [
    "s = ['1','2','3','4']\n",
    "result = map(int,s)\n",
    "print(list(result))"
   ]
  },
  {
   "cell_type": "code",
   "execution_count": 18,
   "id": "5a672ec8-190a-42d8-b7de-0ef3f1fc2d7e",
   "metadata": {},
   "outputs": [
    {
     "name": "stdout",
     "output_type": "stream",
     "text": [
      "[2, 4, 6, 8, 10]\n"
     ]
    }
   ],
   "source": [
    "a = [1,2,3,4,5]\n",
    "\n",
    "result = list(map(lambda x:x*2,a))\n",
    "\n",
    "print(result)"
   ]
  },
  {
   "cell_type": "code",
   "execution_count": 19,
   "id": "fff829c9-9f24-4fd8-8375-941cf8a18371",
   "metadata": {},
   "outputs": [
    {
     "name": "stdout",
     "output_type": "stream",
     "text": [
      "['APPLE', 'MANGO', 'ORANGE', 'PINEAPPLE']\n"
     ]
    }
   ],
   "source": [
    "fruit = ['apple','mango','orange','pineapple']\n",
    "result = map(str.upper,fruit)\n",
    "print(list(result))"
   ]
  },
  {
   "cell_type": "code",
   "execution_count": 20,
   "id": "49c15770-04da-47fc-badc-3d1aa7a04446",
   "metadata": {},
   "outputs": [
    {
     "name": "stdout",
     "output_type": "stream",
     "text": [
      "['hello', 'world']\n"
     ]
    }
   ],
   "source": [
    "s = ['  hello  ','  world  ']\n",
    "result = map(str.strip,s)\n",
    "print(list(result))"
   ]
  },
  {
   "cell_type": "code",
   "execution_count": 23,
   "id": "0844785e-982f-4dbe-a35f-eb41d6430cec",
   "metadata": {},
   "outputs": [
    {
     "name": "stdout",
     "output_type": "stream",
     "text": [
      "[32.0, 68.0, 98.6, 212.0]\n"
     ]
    }
   ],
   "source": [
    "celsius = [0,20,37,100]\n",
    "\n",
    "result = map(lambda c:(c*9/5)+32,celsius)\n",
    "\n",
    "print(list(result))"
   ]
  },
  {
   "cell_type": "markdown",
   "id": "6c6109fa-385d-4916-8827-368fa899e36f",
   "metadata": {},
   "source": [
    "Recursion"
   ]
  },
  {
   "cell_type": "code",
   "execution_count": 24,
   "id": "83ee2408-647c-4f10-b764-ceb6a36baf35",
   "metadata": {},
   "outputs": [
    {
     "name": "stdout",
     "output_type": "stream",
     "text": [
      "24\n"
     ]
    }
   ],
   "source": [
    "def factorial(n):\n",
    "    if n==0:\n",
    "        return 1\n",
    "    else:\n",
    "        return n*factorial(n-1)\n",
    "\n",
    "print(factorial(4))"
   ]
  },
  {
   "cell_type": "code",
   "execution_count": 26,
   "id": "874ffbbd-1eba-425d-897e-4984be51c8cb",
   "metadata": {},
   "outputs": [
    {
     "name": "stdout",
     "output_type": "stream",
     "text": [
      "55\n"
     ]
    }
   ],
   "source": [
    "def fibonacci(n):\n",
    "    if n==0:\n",
    "        return 0\n",
    "    elif n==1:\n",
    "        return 1\n",
    "\n",
    "    else:\n",
    "        return fibonacci(n-1) + fibonacci(n-2)\n",
    "\n",
    "print(fibonacci(10))"
   ]
  },
  {
   "cell_type": "code",
   "execution_count": null,
   "id": "2a9163a5-cbb8-45b2-99bb-b6367b12d9f6",
   "metadata": {},
   "outputs": [],
   "source": []
  }
 ],
 "metadata": {
  "kernelspec": {
   "display_name": "Python 3 (ipykernel)",
   "language": "python",
   "name": "python3"
  },
  "language_info": {
   "codemirror_mode": {
    "name": "ipython",
    "version": 3
   },
   "file_extension": ".py",
   "mimetype": "text/x-python",
   "name": "python",
   "nbconvert_exporter": "python",
   "pygments_lexer": "ipython3",
   "version": "3.12.3"
  }
 },
 "nbformat": 4,
 "nbformat_minor": 5
}
